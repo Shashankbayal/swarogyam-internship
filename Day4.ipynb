{
 "cells": [
  {
   "cell_type": "code",
   "execution_count": 22,
   "metadata": {
    "colab": {
     "base_uri": "https://localhost:8080/"
    },
    "executionInfo": {
     "elapsed": 795,
     "status": "ok",
     "timestamp": 1654749867164,
     "user": {
      "displayName": "Dr Urvashi SHUKLA",
      "userId": "07028841628013870907"
     },
     "user_tz": -330
    },
    "id": "TihDX33oEHuH",
    "outputId": "16bb2fb6-aa54-45a9-c717-9c5d644e92e1"
   },
   "outputs": [
    {
     "name": "stdout",
     "output_type": "stream",
     "text": [
      "        one       two     three\n",
      "a  2.443458 -2.315771 -0.722633\n",
      "b       NaN       NaN       NaN\n",
      "c  0.686578 -0.519360 -1.693548\n",
      "d       NaN       NaN       NaN\n",
      "e -0.922211  1.025129  0.234079\n",
      "f -0.618684  0.377430 -1.526810\n",
      "g       NaN       NaN       NaN\n",
      "h -0.633713 -0.859424  1.490255\n"
     ]
    }
   ],
   "source": [
    "# import the pandas library\n",
    "import pandas as pd\n",
    "import numpy as np\n",
    "\n",
    "df = pd.DataFrame(np.random.randn(5, 3), index=['a', 'c', 'e', 'f',\n",
    "'h'],columns=['one', 'two', 'three'])\n",
    "\n",
    "\n",
    "\n",
    "df = df.reindex(['a', 'b', 'c', 'd', 'e', 'f', 'g', 'h'])\n",
    "\n",
    "print (df)"
   ]
  },
  {
   "cell_type": "code",
   "execution_count": 23,
   "metadata": {
    "colab": {
     "base_uri": "https://localhost:8080/"
    },
    "executionInfo": {
     "elapsed": 489,
     "status": "ok",
     "timestamp": 1654750027193,
     "user": {
      "displayName": "Dr Urvashi SHUKLA",
      "userId": "07028841628013870907"
     },
     "user_tz": -330
    },
    "id": "i1a0vTRsE1L5",
    "outputId": "099d4971-adc2-4cd7-8b6c-7779ed20bb37"
   },
   "outputs": [
    {
     "name": "stdout",
     "output_type": "stream",
     "text": [
      "<bound method DataFrame.isnull of         one       two     three\n",
      "a  2.443458 -2.315771 -0.722633\n",
      "b       NaN       NaN       NaN\n",
      "c  0.686578 -0.519360 -1.693548\n",
      "d       NaN       NaN       NaN\n",
      "e -0.922211  1.025129  0.234079\n",
      "f -0.618684  0.377430 -1.526810\n",
      "g       NaN       NaN       NaN\n",
      "h -0.633713 -0.859424  1.490255>\n"
     ]
    },
    {
     "data": {
      "text/plain": [
       "9"
      ]
     },
     "execution_count": 23,
     "metadata": {},
     "output_type": "execute_result"
    }
   ],
   "source": [
    "print(df.isnull)\n",
    "\n",
    "df.isnull().values.any()\n",
    "\n",
    "\n",
    "df.isnull().sum()\n",
    "\n",
    "\n",
    "df.isnull().sum().sum()"
   ]
  },
  {
   "cell_type": "code",
   "execution_count": 24,
   "metadata": {
    "colab": {
     "base_uri": "https://localhost:8080/"
    },
    "executionInfo": {
     "elapsed": 469,
     "status": "ok",
     "timestamp": 1654750091267,
     "user": {
      "displayName": "Dr Urvashi SHUKLA",
      "userId": "07028841628013870907"
     },
     "user_tz": -330
    },
    "id": "UG0ORJ1MAbi9",
    "outputId": "69d75c47-ee2f-49e1-8f08-208c7d786420"
   },
   "outputs": [
    {
     "name": "stdout",
     "output_type": "stream",
     "text": [
      "        one       two     three\n",
      "a  2.443458 -2.315771 -0.722633\n",
      "b  0.000000  0.000000  0.000000\n",
      "c  0.686578 -0.519360 -1.693548\n",
      "d  0.000000  0.000000  0.000000\n",
      "e -0.922211  1.025129  0.234079\n",
      "f -0.618684  0.377430 -1.526810\n",
      "g  0.000000  0.000000  0.000000\n",
      "h -0.633713 -0.859424  1.490255\n"
     ]
    }
   ],
   "source": [
    "\n",
    "print (df.fillna(0))"
   ]
  },
  {
   "cell_type": "code",
   "execution_count": 25,
   "metadata": {
    "colab": {
     "base_uri": "https://localhost:8080/"
    },
    "executionInfo": {
     "elapsed": 572,
     "status": "ok",
     "timestamp": 1654619734546,
     "user": {
      "displayName": "Dr Urvashi SHUKLA",
      "userId": "07028841628013870907"
     },
     "user_tz": -330
    },
    "id": "W2rNFLVYBVi1",
    "outputId": "50ff211a-ed50-4f02-8ba7-02a2c05f8335"
   },
   "outputs": [
    {
     "name": "stdout",
     "output_type": "stream",
     "text": [
      "        one       two     three\n",
      "a  2.443458 -2.315771 -0.722633\n",
      "b  2.443458 -2.315771 -0.722633\n",
      "c  0.686578 -0.519360 -1.693548\n",
      "d  0.686578 -0.519360 -1.693548\n",
      "e -0.922211  1.025129  0.234079\n",
      "f -0.618684  0.377430 -1.526810\n",
      "g -0.618684  0.377430 -1.526810\n",
      "h -0.633713 -0.859424  1.490255\n"
     ]
    }
   ],
   "source": [
    "print (df.fillna(method='pad'))"
   ]
  },
  {
   "cell_type": "markdown",
   "metadata": {
    "id": "zjtVdiSDDZ9_"
   },
   "source": [
    "Data filling techniques \n",
    "https://towardsdatascience.com/how-to-fill-missing-data-with-pandas-8cb875362a0d"
   ]
  },
  {
   "cell_type": "code",
   "execution_count": 65,
   "metadata": {
    "colab": {
     "base_uri": "https://localhost:8080/"
    },
    "executionInfo": {
     "elapsed": 10,
     "status": "ok",
     "timestamp": 1654620308467,
     "user": {
      "displayName": "Dr Urvashi SHUKLA",
      "userId": "07028841628013870907"
     },
     "user_tz": -330
    },
    "id": "gVX-cdQrDeAH",
    "outputId": "72cf8ede-40d4-4ddf-f28b-226e54213633"
   },
   "outputs": [
    {
     "name": "stdout",
     "output_type": "stream",
     "text": [
      "        date  fruit  price\n",
      "0 2021-01-01  apple    0.8\n",
      "1 2021-01-02  apple    NaN\n",
      "2 2021-01-03  apple    NaN\n",
      "3 2021-01-04  apple    1.2\n",
      "4 2021-01-01  mango    NaN\n",
      "5 2021-01-02  mango    3.1\n",
      "6 2021-01-03  mango    NaN\n",
      "7 2021-01-04  mango    2.8\n",
      "        date  fruit  price\n",
      "0 2021-01-01  apple    0.8\n",
      "1 2021-01-02  apple    1.2\n",
      "2 2021-01-03  apple    1.2\n",
      "3 2021-01-04  apple    1.2\n",
      "4 2021-01-01  mango    3.1\n",
      "5 2021-01-02  mango    3.1\n",
      "6 2021-01-03  mango    2.8\n",
      "7 2021-01-04  mango    2.8\n"
     ]
    }
   ],
   "source": [
    "df = pd.DataFrame({'date':['2021-01-01', '2021-01-02', '2021-01-03', '2021-01-04','2021-01-01', '2021-01-02', '2021-01-03', '2021-01-04'], 'fruit':['apple', 'apple', 'apple', 'apple', 'mango', 'mango', 'mango', 'mango'], 'price': [0.80, None, None, 1.20, None, 3.10, None, 2.80]})\n",
    "df['date'] = pd.to_datetime(df['date'])\n",
    "\n",
    "print(df)\n",
    "df.dtypes\n",
    "\n",
    "#df['price'] = df.groupby('fruit')['price'].ffill().bfill()\n",
    "#print(df)\n",
    "\n",
    "df['price'] = df.groupby('fruit')['price'].bfill().ffill()\n",
    "print(df)"
   ]
  },
  {
   "cell_type": "markdown",
   "metadata": {
    "id": "xzf37ImODnrJ"
   },
   "source": [
    "Fill with Constant Value"
   ]
  },
  {
   "cell_type": "code",
   "execution_count": 57,
   "metadata": {
    "colab": {
     "base_uri": "https://localhost:8080/"
    },
    "executionInfo": {
     "elapsed": 767,
     "status": "ok",
     "timestamp": 1654620398916,
     "user": {
      "displayName": "Dr Urvashi SHUKLA",
      "userId": "07028841628013870907"
     },
     "user_tz": -330
    },
    "id": "latxTbaNDpA7",
    "outputId": "ae5e91e1-803c-4eca-9ad9-c1951efe36f5"
   },
   "outputs": [
    {
     "name": "stdout",
     "output_type": "stream",
     "text": [
      "        date  fruit  price\n",
      "0 2021-01-01  apple   0.80\n",
      "1 2021-01-02  apple   0.85\n",
      "2 2021-01-03  apple   0.85\n",
      "3 2021-01-04  apple   1.20\n",
      "4 2021-01-01  mango   0.85\n",
      "5 2021-01-02  mango   2.10\n",
      "6 2021-01-03  mango   2.00\n",
      "7 2021-01-04  mango   1.80\n"
     ]
    }
   ],
   "source": [
    "df['price'].fillna(value = 0.85, inplace = True)\n",
    "print(df)"
   ]
  },
  {
   "cell_type": "markdown",
   "metadata": {
    "id": "sB8p0k4fD7aF"
   },
   "source": [
    "Fill with Mean / Median of Column"
   ]
  },
  {
   "cell_type": "code",
   "execution_count": 28,
   "metadata": {
    "id": "EIQv3gW8D9pq"
   },
   "outputs": [
    {
     "name": "stdout",
     "output_type": "stream",
     "text": [
      "        date  fruit  price\n",
      "0 2021-01-01  apple   0.80\n",
      "1 2021-01-02  apple   0.85\n",
      "2 2021-01-03  apple   0.85\n",
      "3 2021-01-04  apple   1.20\n",
      "4 2021-01-01  mango   0.85\n",
      "5 2021-01-02  mango   2.10\n",
      "6 2021-01-03  mango   2.00\n",
      "7 2021-01-04  mango   1.80\n"
     ]
    }
   ],
   "source": [
    "# mean\n",
    "df['price'].fillna(value = df.price.mean(), inplace = True)\n",
    "print(df)"
   ]
  },
  {
   "cell_type": "code",
   "execution_count": 29,
   "metadata": {
    "id": "poH2nEVFEDKP"
   },
   "outputs": [
    {
     "name": "stdout",
     "output_type": "stream",
     "text": [
      "        date  fruit  price\n",
      "0 2021-01-01  apple   0.80\n",
      "1 2021-01-02  apple   0.85\n",
      "2 2021-01-03  apple   0.85\n",
      "3 2021-01-04  apple   1.20\n",
      "4 2021-01-01  mango   0.85\n",
      "5 2021-01-02  mango   2.10\n",
      "6 2021-01-03  mango   2.00\n",
      "7 2021-01-04  mango   1.80\n"
     ]
    }
   ],
   "source": [
    "# median\n",
    "df['price'].fillna(value = df.price.median(), inplace = True)\n",
    "print(df)"
   ]
  },
  {
   "cell_type": "markdown",
   "metadata": {
    "id": "nwQH5UbzEHoZ"
   },
   "source": [
    "Fill with Mean / Median of Group"
   ]
  },
  {
   "cell_type": "code",
   "execution_count": 44,
   "metadata": {
    "id": "02HOUiVrEIdx"
   },
   "outputs": [
    {
     "name": "stdout",
     "output_type": "stream",
     "text": [
      "        date  fruit     price\n",
      "0 2021-01-01  apple  0.800000\n",
      "1 2021-01-02  apple  1.000000\n",
      "2 2021-01-03  apple  1.000000\n",
      "3 2021-01-04  apple  1.200000\n",
      "4 2021-01-01  mango  1.966667\n",
      "5 2021-01-02  mango  2.100000\n",
      "6 2021-01-03  mango  2.000000\n",
      "7 2021-01-04  mango  1.800000\n",
      "        date  fruit     price\n",
      "0 2021-01-01  apple  0.800000\n",
      "1 2021-01-02  apple  1.000000\n",
      "2 2021-01-03  apple  1.000000\n",
      "3 2021-01-04  apple  1.200000\n",
      "4 2021-01-01  mango  1.966667\n",
      "5 2021-01-02  mango  2.100000\n",
      "6 2021-01-03  mango  2.000000\n",
      "7 2021-01-04  mango  1.800000\n"
     ]
    },
    {
     "data": {
      "text/plain": [
       "date     datetime64[ns]\n",
       "fruit            object\n",
       "price           float64\n",
       "dtype: object"
      ]
     },
     "execution_count": 44,
     "metadata": {},
     "output_type": "execute_result"
    }
   ],
   "source": [
    "# mean\n",
    "df['price'].fillna(df.groupby('fruit')['price'].transform('mean'), inplace = True)\n",
    "print(df)\n",
    "# median\n",
    "df['price'].fillna(df.groupby('fruit')['price'].transform('median'), inplace = True)\n",
    "print(df)\n",
    "df.dtypes\n"
   ]
  },
  {
   "cell_type": "markdown",
   "metadata": {
    "id": "s2yc_eQ3ESOL"
   },
   "source": [
    "Forward Fill"
   ]
  },
  {
   "cell_type": "code",
   "execution_count": 31,
   "metadata": {
    "id": "3bOs3DtQEUHz"
   },
   "outputs": [],
   "source": [
    "df['price'].fillna(method = 'ffill', inplace = True)"
   ]
  },
  {
   "cell_type": "markdown",
   "metadata": {
    "id": "Iqs71n0XGHnz"
   },
   "source": [
    "the data science and prcoessing  \n",
    "https://www.w3schools.com/python/python_ml_mean_median_mode.asp"
   ]
  },
  {
   "cell_type": "code",
   "execution_count": null,
   "metadata": {
    "id": "k075mkSWGNmk"
   },
   "outputs": [],
   "source": []
  },
  {
   "cell_type": "markdown",
   "metadata": {
    "id": "CzIfHqyLE5Vd"
   },
   "source": [
    "Reading CSV and the functioanlity "
   ]
  },
  {
   "cell_type": "code",
   "execution_count": 67,
   "metadata": {
    "colab": {
     "base_uri": "https://localhost:8080/"
    },
    "executionInfo": {
     "elapsed": 586,
     "status": "ok",
     "timestamp": 1654620721451,
     "user": {
      "displayName": "Dr Urvashi SHUKLA",
      "userId": "07028841628013870907"
     },
     "user_tz": -330
    },
    "id": "1EAdnT-tE8Ix",
    "outputId": "3a5c8cb0-2c4e-4f20-eac2-aa99b3520f3d"
   },
   "outputs": [
    {
     "name": "stdout",
     "output_type": "stream",
     "text": [
      "     Pregnancies  Glucose  BloodPressure  SkinThickness  Insulin   BMI  \\\n",
      "0              6      148             72             35        0  33.6   \n",
      "1              1       85             66             29        0  26.6   \n",
      "2              8      183             64              0        0  23.3   \n",
      "3              1       89             66             23       94  28.1   \n",
      "4              0      137             40             35      168  43.1   \n",
      "..           ...      ...            ...            ...      ...   ...   \n",
      "763           10      101             76             48      180  32.9   \n",
      "764            2      122             70             27        0  36.8   \n",
      "765            5      121             72             23      112  26.2   \n",
      "766            1      126             60              0        0  30.1   \n",
      "767            1       93             70             31        0  30.4   \n",
      "\n",
      "     DiabetesPedigreeFunction  Age  Outcome  \n",
      "0                       0.627   50        1  \n",
      "1                       0.351   31        0  \n",
      "2                       0.672   32        1  \n",
      "3                       0.167   21        0  \n",
      "4                       2.288   33        1  \n",
      "..                        ...  ...      ...  \n",
      "763                     0.171   63        0  \n",
      "764                     0.340   27        0  \n",
      "765                     0.245   30        0  \n",
      "766                     0.349   47        1  \n",
      "767                     0.315   23        0  \n",
      "\n",
      "[768 rows x 9 columns]\n"
     ]
    }
   ],
   "source": [
    "import pandas as pd\n",
    "data = pd.read_csv('diabetes.csv')\n",
    "\n",
    "print (data)"
   ]
  },
  {
   "cell_type": "code",
   "execution_count": 68,
   "metadata": {
    "colab": {
     "base_uri": "https://localhost:8080/"
    },
    "executionInfo": {
     "elapsed": 566,
     "status": "ok",
     "timestamp": 1654620739551,
     "user": {
      "displayName": "Dr Urvashi SHUKLA",
      "userId": "07028841628013870907"
     },
     "user_tz": -330
    },
    "id": "MVmdyaeyFGKC",
    "outputId": "df6b15b6-5eb2-4c38-85f8-8de6e6b3f214"
   },
   "outputs": [
    {
     "name": "stdout",
     "output_type": "stream",
     "text": [
      "0    148\n",
      "1     85\n",
      "2    183\n",
      "3     89\n",
      "4    137\n",
      "Name: Glucose, dtype: int64\n"
     ]
    }
   ],
   "source": [
    "\n",
    "# Slice the result for first 5 rows\n",
    "print (data[0:5]['Glucose'])"
   ]
  },
  {
   "cell_type": "code",
   "execution_count": 69,
   "metadata": {
    "id": "_x4QF_pkFQPl"
   },
   "outputs": [
    {
     "name": "stdout",
     "output_type": "stream",
     "text": [
      "     Glucose  BloodPressure\n",
      "0        148             72\n",
      "1         85             66\n",
      "2        183             64\n",
      "3         89             66\n",
      "4        137             40\n",
      "..       ...            ...\n",
      "763      101             76\n",
      "764      122             70\n",
      "765      121             72\n",
      "766      126             60\n",
      "767       93             70\n",
      "\n",
      "[768 rows x 2 columns]\n"
     ]
    }
   ],
   "source": [
    "# Use the multi-axes indexing funtion\n",
    "print (data.loc[:,['Glucose','BloodPressure']])"
   ]
  },
  {
   "cell_type": "code",
   "execution_count": 70,
   "metadata": {
    "colab": {
     "base_uri": "https://localhost:8080/"
    },
    "executionInfo": {
     "elapsed": 1021,
     "status": "ok",
     "timestamp": 1654620801374,
     "user": {
      "displayName": "Dr Urvashi SHUKLA",
      "userId": "07028841628013870907"
     },
     "user_tz": -330
    },
    "id": "AxOF6NE3FZfM",
    "outputId": "28245a44-9ddf-4cc0-b3d2-e13c04f4d4f9"
   },
   "outputs": [
    {
     "name": "stdout",
     "output_type": "stream",
     "text": [
      "   Glucose  BloodPressure\n",
      "1       85             66\n",
      "3       89             66\n",
      "5      116             74\n"
     ]
    }
   ],
   "source": [
    "# Use the multi-axes indexing funtion\n",
    "print (data.loc[[1,3,5],['Glucose','BloodPressure']])"
   ]
  },
  {
   "cell_type": "code",
   "execution_count": 71,
   "metadata": {
    "colab": {
     "base_uri": "https://localhost:8080/"
    },
    "executionInfo": {
     "elapsed": 621,
     "status": "ok",
     "timestamp": 1654620821247,
     "user": {
      "displayName": "Dr Urvashi SHUKLA",
      "userId": "07028841628013870907"
     },
     "user_tz": -330
    },
    "id": "WF6TGpXOFesi",
    "outputId": "6d28588f-6bfc-478b-f4bc-ecb5de576c40"
   },
   "outputs": [
    {
     "name": "stdout",
     "output_type": "stream",
     "text": [
      "   Glucose  BloodPressure\n",
      "2      183             64\n",
      "3       89             66\n",
      "4      137             40\n",
      "5      116             74\n",
      "6       78             50\n"
     ]
    }
   ],
   "source": [
    "# Use the multi-axes indexing funtion\n",
    "print (data.loc[2:6,['Glucose','BloodPressure']])"
   ]
  },
  {
   "cell_type": "code",
   "execution_count": null,
   "metadata": {},
   "outputs": [],
   "source": []
  }
 ],
 "metadata": {
  "colab": {
   "authorship_tag": "ABX9TyO/9UeOc6N6CBSFhbypydcB",
   "collapsed_sections": [],
   "mount_file_id": "1VwjL1x2fYUXije1PmNjGPRq28KLZeteF",
   "name": "Day3.ipynb",
   "provenance": []
  },
  "kernelspec": {
   "display_name": "Python 3 (ipykernel)",
   "language": "python",
   "name": "python3"
  },
  "language_info": {
   "codemirror_mode": {
    "name": "ipython",
    "version": 3
   },
   "file_extension": ".py",
   "mimetype": "text/x-python",
   "name": "python",
   "nbconvert_exporter": "python",
   "pygments_lexer": "ipython3",
   "version": "3.9.7"
  }
 },
 "nbformat": 4,
 "nbformat_minor": 1
}
